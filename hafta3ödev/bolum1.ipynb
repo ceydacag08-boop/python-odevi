{
 "cells": [
  {
   "cell_type": "markdown",
   "id": "0e3e1916",
   "metadata": {},
   "source": [
    "Soru 1 – Liste Metotları \n",
    "\n",
    "Bir sınıfta öğrencilerin notları şu şekilde tutuluyor: \n",
    "\n",
    "notlar = [85, 92, 76, 92, 100, 76, 85, 92] \n",
    "\n",
    "• Listedeki tekrar eden notları silip benzersiz bir \n",
    "liste oluşturun. \n",
    "\n",
    "• En yüksek ve en düşük notu bulun. \n",
    "\n",
    "• Notları küçükten büyüğe sıralayın."
   ]
  },
  {
   "cell_type": "code",
   "execution_count": 1,
   "id": "20d68438",
   "metadata": {},
   "outputs": [
    {
     "name": "stdout",
     "output_type": "stream",
     "text": [
      "Benzersiz Notlar: [100, 92, 85, 76]\n",
      "En Yüksek Not: 100\n",
      "En Düşük Not: 76\n",
      "Notlar Küçükten Büyüğe Sıralanmış: [76, 76, 85, 85, 92, 92, 92, 100]\n"
     ]
    }
   ],
   "source": [
    "\n",
    "notlar = [85, 92, 76, 92, 100, 76, 85, 92]\n",
    "\n",
    "benzersiz_notlar = list(set(notlar))\n",
    "print(\"Benzersiz Notlar:\", benzersiz_notlar)\n",
    "\n",
    "en_yuksek_not = max(notlar)\n",
    "en_dusuk_not = min(notlar)\n",
    "print(\"En Yüksek Not:\", en_yuksek_not)\n",
    "print(\"En Düşük Not:\", en_dusuk_not)\n",
    "\n",
    "sıralı_notlar = sorted(notlar)\n",
    "print(\"Notlar Küçükten Büyüğe Sıralanmış:\", sıralı_notlar)"
   ]
  },
  {
   "cell_type": "markdown",
   "id": "fe652b3c",
   "metadata": {},
   "source": [
    "Soru 2 – Sayılar \n",
    "\n",
    "Bir sayının Armstrong sayısı olup olmadığını kontrol \n",
    "eden bir Python fonksiyonu yazın. \n",
    "\n",
    "Armstrong sayısı: Her basamağının küplerinin toplamı \n",
    "kendisine eşit olan sayılar. \n",
    "\n",
    "Örn: 153 → 1³+5³+3³ = 153"
   ]
  },
  {
   "cell_type": "code",
   "execution_count": null,
   "id": "b54afc29",
   "metadata": {},
   "outputs": [
    {
     "name": "stdout",
     "output_type": "stream",
     "text": [
      "153 bir Armstrong sayısıdır.\n"
     ]
    }
   ],
   "source": [
    "def armstrong_sayisi_mi(sayi):\n",
    "    rakamlar = [int(rakam) for rakam in str(sayi)]\n",
    "    toplam = sum(rakam ** 3 for rakam in rakamlar)\n",
    "    return toplam == sayi\n",
    "sayi = int(input(\"Bir sayı girin: \"))\n",
    "if armstrong_sayisi_mi(sayi):\n",
    "    print(f\"{sayi} bir Armstrong sayısıdır.\")\n",
    "else:\n",
    "    print(f\"{sayi} bir Armstrong sayısı değildir.\")\n"
   ]
  },
  {
   "cell_type": "markdown",
   "id": "f2195572",
   "metadata": {},
   "source": [
    "Soru 3 – Kümeler \n",
    "\n",
    "Aşağıdaki iki küme verilmiştir: \n",
    "\n",
    "A = {\"Python\", \"R\", \"SQL\", \"Java\"} \n",
    "\n",
    "B = {\"C++\", \"Python\", \"JavaScript\", \"SQL\"} \n",
    "\n",
    "• Ortak dilleri bulun. \n",
    "\n",
    "• Sadece A’da olan dilleri listeleyin. \n",
    "\n",
    "• İki kümenin birleşimini alfabetik olarak yazdırın."
   ]
  },
  {
   "cell_type": "code",
   "execution_count": null,
   "id": "5cfb167c",
   "metadata": {},
   "outputs": [
    {
     "name": "stdout",
     "output_type": "stream",
     "text": [
      "Ortak Diller: ['Python', 'SQL']\n",
      "Sadece A'da Olan Diller: ['R', 'Java']\n",
      "İki Kümenin Birleşimi (Alfabetik): ['C++', 'Java', 'JavaScript', 'Python', 'R', 'SQL']\n"
     ]
    }
   ],
   "source": [
    "A = {\"Python\", \"R\", \"SQL\", \"Java\"}\n",
    "B = {\"C++\", \"Python\", \"JavaScript\", \"SQL\"}\n",
    "ortak_diller=[]\n",
    "for dil in A:\n",
    "    if dil in B:\n",
    "        ortak_diller.append(dil)\n",
    "print(\"Ortak Diller:\", ortak_diller)\n",
    "sadece_A_dilleri = list(A - B)\n",
    "print(\"Sadece A'da Olan Diller:\", sadece_A_dilleri)\n",
    "birlesim = sorted(A | B)\n",
    "print(\"İki Kümenin Birleşimi (Alfabetik):\", birlesim)\n"
   ]
  },
  {
   "cell_type": "markdown",
   "id": "46db0d25",
   "metadata": {},
   "source": [
    "Soru 4 – Modüller \n",
    "\n",
    "• random modülünü kullanarak 1–100 arasında 10 rastgele sayı üretin. \n",
    "\n",
    "• Bu sayıların ortalamasını ve standart sapmasını statistics modülü ile hesaplayın."
   ]
  },
  {
   "cell_type": "code",
   "execution_count": null,
   "id": "381833e1",
   "metadata": {},
   "outputs": [
    {
     "name": "stdout",
     "output_type": "stream",
     "text": [
      "Rastgele Sayılar: [79, 14, 30, 99, 55, 39, 75, 47, 13, 76]\n",
      "Ortalama: 52.7\n",
      "Standart Sapma: 29.23107174832212\n"
     ]
    }
   ],
   "source": [
    "\n",
    "import random\n",
    "rastgele_sayilar = [random.randint(1, 100) for _ in range(10)]\n",
    "ortalama = sum(rastgele_sayilar) / len(rastgele_sayilar)\n",
    "import statistics\n",
    "standart_sapma = statistics.stdev(rastgele_sayilar)\n",
    "print(\"Rastgele Sayılar:\", rastgele_sayilar)\n",
    "print(\"Ortalama:\", ortalama)\n",
    "print(\"Standart Sapma:\", standart_sapma)"
   ]
  },
  {
   "cell_type": "markdown",
   "id": "b44ee615",
   "metadata": {},
   "source": [
    "Soru 5 – Fonksiyonlar \n",
    "\n",
    "kelime_sayacı(metin) adında bir fonksiyon yazın. \n",
    "\n",
    "Fonksiyon verilen metindeki: \n",
    "\n",
    "• toplam kelime sayısını \n",
    "\n",
    "• en uzun kelimeyi \n",
    "\n",
    "• en sık geçen kelimeyi döndürsün."
   ]
  },
  {
   "cell_type": "code",
   "execution_count": null,
   "id": "69371deb",
   "metadata": {},
   "outputs": [
    {
     "name": "stdout",
     "output_type": "stream",
     "text": [
      "Toplam Kelime Sayısı: 11\n",
      "En Uzun Kelime: öğrencisiyim.\n",
      "En Sık Geçen Kelime: Veri\n"
     ]
    }
   ],
   "source": [
    "def kelime_sayaci(metin):\n",
    "    kelimeler = metin.split()\n",
    "    toplam_kelime_sayisi = len(kelimeler)\n",
    "    en_uzun_kelime = max(kelimeler, key=len)\n",
    "    kelime_tekrarı = {}\n",
    "    for kelime in kelimeler:\n",
    "        kelime_tekrarı[kelime] = kelime_tekrarı.get(kelime, 0) + 1\n",
    "    en_sik_gecen_kelime = max(kelime_tekrarı, key=kelime_tekrarı.get)\n",
    "    return toplam_kelime_sayisi, en_uzun_kelime, en_sik_gecen_kelime\n",
    "metin = \"Yaz Kampı: Veri bilimine giriş 1. sınıf öğrencisiyim. Veri bilimini öğreniyorum.\"\n",
    "toplam, en_uzun, en_sik = kelime_sayaci(metin)\n",
    "print(\"Toplam Kelime Sayısı:\", toplam)\n",
    "print(\"En Uzun Kelime:\", en_uzun)\n",
    "print(\"En Sık Geçen Kelime:\", en_sik)\n",
    "\n"
   ]
  },
  {
   "cell_type": "markdown",
   "id": "af6037de",
   "metadata": {},
   "source": [
    "Soru 6 – Gömülü Fonksiyonlar \n",
    "\n",
    "Aşağıdaki liste için map, filter, sorted gibi gömülü \n",
    "fonksiyonları kullanarak: \n",
    "\n",
    "sayilar = [5, 12, 7, 18, 24, 3, 16] \n",
    "\n",
    "• Sadece çift sayıları filtreleyin. \n",
    "\n",
    "• Bu sayıların karelerini bulun. \n",
    "\n",
    "• Karelerini azalan sırada sıralayın."
   ]
  },
  {
   "cell_type": "code",
   "execution_count": null,
   "id": "69f8a9ae",
   "metadata": {},
   "outputs": [
    {
     "name": "stdout",
     "output_type": "stream",
     "text": [
      "Çift Sayılar: [12, 18, 24, 16]\n",
      "Kareler: [25, 144, 49, 324, 576, 9, 256]\n",
      "Kareler Azalan Sırada: [576, 324, 256, 144, 49, 25, 9]\n"
     ]
    }
   ],
   "source": [
    "sayilar = [5, 12, 7, 18, 24, 3, 16]\n",
    "cift_sayilar = list(filter(lambda x: x % 2 == 0, sayilar))\n",
    "print(\"Çift Sayılar:\", cift_sayilar)\n",
    "kareler = list(map(lambda x: x ** 2, sayilar))\n",
    "print(\"Kareler:\", kareler)\n",
    "sirali_kareler = sorted(kareler, reverse=True)\n",
    "print(\"Kareler Azalan Sırada:\", sirali_kareler)\n"
   ]
  },
  {
   "cell_type": "markdown",
   "id": "339844ae",
   "metadata": {},
   "source": [
    "Soru 7 – Lambda İfadeleri \n",
    "\n",
    "Aşağıdaki listeyi, her kelimenin uzunluğuna göre \n",
    "küçükten büyüğe sıralayın. \n",
    "\n",
    "kelimeler = [\"veri\", \"bilim\", \"analiz\", \"yapayzeka\", \n",
    "\"python\"] \n",
    "\n",
    "Bunu sorted + lambda ile yapın."
   ]
  },
  {
   "cell_type": "code",
   "execution_count": null,
   "id": "07db075e",
   "metadata": {},
   "outputs": [
    {
     "name": "stdout",
     "output_type": "stream",
     "text": [
      "Kelimeler Uzunluklarına Göre Sıralanmış: ['veri', 'bilim', 'analiz', 'python', 'yapayzeka']\n"
     ]
    }
   ],
   "source": [
    "\n",
    "kelimeler = [\"veri\", \"bilim\", \"analiz\", \"yapayzeka\", \"python\"]\n",
    "sirali_kelimeler = sorted(kelimeler, key=lambda x: len(x))\n",
    "print(\"Kelimeler Uzunluklarına Göre Sıralanmış:\", sirali_kelimeler)\n"
   ]
  },
  {
   "cell_type": "markdown",
   "id": "465ce8cc",
   "metadata": {},
   "source": [
    "Soru 8 – Metodlar \n",
    "\n",
    "Bir string içinde geçen tüm rakamları bulun ve bunların toplamını döndüren bir fonksiyon yazın. \n",
    "\n",
    "Örn: \"abc12def3\" → 12 + 3 = 15 "
   ]
  },
  {
   "cell_type": "code",
   "execution_count": 17,
   "id": "0dbc162a",
   "metadata": {},
   "outputs": [
    {
     "name": "stdout",
     "output_type": "stream",
     "text": [
      "Rakamların Toplamı: 19\n"
     ]
    }
   ],
   "source": [
    "\"\"\"Soru 8 – Metodlar \n",
    "Bir string içinde geçen tüm rakamları bulun ve bunların toplamını döndüren bir fonksiyon \n",
    "yazın. \n",
    "Örn: \"abc12def3\" → 12 + 3 = 15 \"\"\"\n",
    "def rakam_toplami(metin):\n",
    "    rakamlar = [int(char) for char in metin if char.isdigit()]\n",
    "    return sum(rakamlar)\n",
    "metin = \"abc12def3454\"\n",
    "toplam = rakam_toplami(metin)\n",
    "print(\"Rakamların Toplamı:\", toplam)\n",
    "\n"
   ]
  },
  {
   "cell_type": "markdown",
   "id": "73a562bd",
   "metadata": {},
   "source": [
    "Soru 9 – (Ekstra) Numpy 1  \n",
    "\n",
    "10 elemanlı bir numpy dizisi oluşturun. \n",
    "\n",
    "• Elemanlar 0–50 arasında rastgele sayılar olsun. \n",
    "\n",
    "• Dizinin ortalamasını, standart sapmasını ve en büyük değerini bulun."
   ]
  },
  {
   "cell_type": "code",
   "execution_count": 19,
   "id": "47a46fa0",
   "metadata": {},
   "outputs": [
    {
     "name": "stdout",
     "output_type": "stream",
     "text": [
      "Collecting numpy\n",
      "  Using cached numpy-2.3.2-cp313-cp313-win_amd64.whl.metadata (60 kB)\n",
      "Using cached numpy-2.3.2-cp313-cp313-win_amd64.whl (12.8 MB)\n",
      "Installing collected packages: numpy\n",
      "Successfully installed numpy-2.3.2\n"
     ]
    }
   ],
   "source": [
    "!pip install numpy"
   ]
  },
  {
   "cell_type": "code",
   "execution_count": 20,
   "id": "32214373",
   "metadata": {},
   "outputs": [
    {
     "name": "stdout",
     "output_type": "stream",
     "text": [
      "Numpy Dizisi: [37 26  3 41 48 42 13  6 26 22]\n",
      "Ortalama: 26.4\n",
      "Standart Sapma: 14.82700239428051\n",
      "En Büyük Değer: 48\n"
     ]
    }
   ],
   "source": [
    "\"\"\"Soru 9 – (Ekstra) Numpy 1  \n",
    "10 elemanlı bir numpy dizisi oluşturun. \n",
    "• Elemanlar 0–50 arasında rastgele sayılar olsun. \n",
    "• Dizinin ortalamasını, standart sapmasını ve en büyük değerini bulun.\"\"\"\n",
    "import numpy as np\n",
    "dizi = np.random.randint(0, 51, size=10)\n",
    "ortalama = np.mean(dizi)\n",
    "standart_sapma = np.std(dizi)\n",
    "en_buyuk = np.max(dizi)\n",
    "print(\"Numpy Dizisi:\", dizi)\n",
    "print(\"Ortalama:\", ortalama)\n",
    "print(\"Standart Sapma:\", standart_sapma)\n",
    "print(\"En Büyük Değer:\", en_buyuk)\n"
   ]
  },
  {
   "cell_type": "markdown",
   "id": "adf5d69e",
   "metadata": {},
   "source": [
    "Soru 10 – (Ekstra) Numpy 2 \n",
    "\n",
    "5x5 boyutunda rastgele 0–1 arasında değerlerden oluşan bir numpy matrisi üretin. \n",
    "\n",
    "• Her sütunun ortalamasını bulun. \n",
    "\n",
    "• 0.5’ten büyük olan değerleri 1, küçük eşit olanları 0 yaparak binary matris oluşturun."
   ]
  },
  {
   "cell_type": "code",
   "execution_count": 21,
   "id": "8d9e0039",
   "metadata": {},
   "outputs": [
    {
     "name": "stdout",
     "output_type": "stream",
     "text": [
      "Orijinal Matris:\n",
      " [[0.34836919 0.59241589 0.62795149 0.14381686 0.89661604]\n",
      " [0.11082102 0.64590141 0.54163829 0.6483246  0.06394091]\n",
      " [0.0667201  0.99620363 0.95833045 0.94030112 0.47626529]\n",
      " [0.30988413 0.51085492 0.96586748 0.27722296 0.09933217]\n",
      " [0.86596847 0.88140378 0.42638655 0.59536589 0.9739308 ]]\n",
      "Sütun Ortalamaları: [0.34035258 0.72535593 0.70403485 0.52100629 0.50201704]\n",
      "Binary Matris:\n",
      " [[0 1 1 0 1]\n",
      " [0 1 1 1 0]\n",
      " [0 1 1 1 0]\n",
      " [0 1 1 0 0]\n",
      " [1 1 0 1 1]]\n"
     ]
    }
   ],
   "source": [
    "\"\"\"Soru 10 – (Ekstra) Numpy 2 \n",
    "5x5 boyutunda rastgele 0–1 arasında değerlerden oluşan bir numpy matrisi üretin. \n",
    "• Her sütunun ortalamasını bulun. \n",
    "• 0.5’ten büyük olan değerleri 1, küçük eşit olanları 0 yaparak binary matris oluşturun.\"\"\"\n",
    "import numpy as np\n",
    "matris = np.random.rand(5, 5)\n",
    "sutun_ortalamalari = np.mean(matris, axis=0)\n",
    "binary_matris = np.where(matris > 0.5, 1, 0)\n",
    "print(\"Orijinal Matris:\\n\", matris)\n",
    "print(\"Sütun Ortalamaları:\", sutun_ortalamalari)\n",
    "print(\"Binary Matris:\\n\", binary_matris)\n"
   ]
  },
  {
   "cell_type": "markdown",
   "id": "5c93db17",
   "metadata": {},
   "source": [
    "    Proje – “Kitap Satış Analiz Sistemi” \n",
    "Bir yayınevinin farklı türlerde ve yazarlarda kitapları var. \n",
    "    Örnek veri: \n",
    "kitaplar = [ \n",
    "\n",
    "{\"isim\": \"Veri Bilimi 101\", \"yazar\": \"Ali\", \"tur\": \"Bilim\", \"satis\": 1200, \"yil\": 2021}, \n",
    "\n",
    "{\"isim\": \"Python ile Yapay Zeka\", \"yazar\": \"Ayşe\", \"tur\": \"Bilim\", \"satis\": 950, \"yil\": \n",
    "2020}, \n",
    "\n",
    "{\"isim\": \"İstatistik Temelleri\", \"yazar\": \"Ali\", \"tur\": \"Akademik\", \"satis\": 700, \"yil\": 2019}, \n",
    "\n",
    "{\"isim\": \"Makine Öğrenmesi\", \"yazar\": \"Can\", \"tur\": \"Bilim\", \"satis\": 1800, \"yil\": 2022}, \n",
    "\n",
    "{\"isim\": \"Veri Görselleştirme\", \"yazar\": \"Deniz\", \"tur\": \"Sanat\", \"satis\": 400, \"yil\": 2018}, \n",
    "\n",
    "{\"isim\": \"Matematiksel Modelleme\", \"yazar\": \"Ali\", \"tur\": \"Akademik\", \"satis\": 1500, \n",
    "\"yil\": 2021}, \n",
    "\n",
    "{\"isim\": \"Bilgi Toplumu\", \"yazar\": \"Ayşe\", \"tur\": \"Sosyal\", \"satis\": 600, \"yil\": 2022} \n",
    "]\n",
    "\n",
    "    Yapılması Gerekenler: \n",
    "1. Fonksiyon Yazma: \n",
    "    en_cok_satan(kitaplar) → En çok satan kitabın bilgilerini döndürsün. \n",
    "    \n",
    "    yazar_satislari(kitaplar) → Her yazarın toplam satışını bir sözlük olarak döndürsün. \n",
    "\n",
    "2. Liste ve Küme İşlemleri: \n",
    "    Tüm kitap türlerini (tur) küme halinde çıkarın (tekrar eden türler olmadan). \n",
    "    \n",
    "    Satış adedi 1000’den fazla olan kitapların isimlerini bir listede toplayın. \n",
    "\n",
    "3. Lambda / Filter / Map Kullanımı: \n",
    "    filter ile 2020’den sonra çıkan kitapları süzün. \n",
    "    \n",
    "    map ile tüm satış adetlerini %10 artırılmış şekilde yeni bir listeye aktarın. \n",
    "    \n",
    "    sorted + lambda ile kitapları satış miktarına göre azalan şekilde sıralayın. \n",
    "\n",
    "4. İstatistiksel Analiz: \n",
    "    Ortalama satış adedini bulun. \n",
    "    \n",
    "    En çok satış yapan türü bulun. \n",
    "    \n",
    "    Satışların standart sapmasını hesaplamak için statistics modülünü kullanın. \n",
    "\n",
    "5. Ekstra (Zorlayıcı): Train/Test Simülasyonu \n",
    "    Kitap listesini rastgele %70 eğitim (train), %30 test verisine ayırın \n",
    "    (random.sample). \n",
    "\n",
    "    Eğitim verisinden yazarların ortalama satışını hesaplayın. \n",
    "\n",
    "    Test verisinde, hangi kitapların satışlarının bu ortalamanın üzerinde olduğunu kontrol edin. \n",
    "\n",
    "---- Beklenen Çıktı Örneği ---- \n",
    "• En çok satan kitap: \"Makine Öğrenmesi\" \n",
    "\n",
    "• Yazar satışları: {\"Ali\": 3400, \"Ayşe\": 1550, \"Can\": 1800, \"Deniz\": 400} \n",
    "\n",
    "• Türler: {\"Bilim\", \"Akademik\", \"Sanat\", \"Sosyal\"} \n",
    "\n",
    "• 1000’den fazla satan kitaplar: [\"Veri Bilimi 101\", \"Makine Öğrenmesi\", \n",
    "\"Matematiksel Modelleme\"] \n",
    "\n",
    "• Ortalama satış: 1021.4 \n",
    "\n",
    "• Standart sapma: ~480.2 \n",
    "\n",
    "• Eğitim/ Test ayırımı sonrası analiz: \n",
    "\n",
    "---- Analizde Sizden Beklenen: ---- \n",
    "• Veriyi uygun oranlarda ayırın (örneğin %70 train, %30 test). \n",
    "\n",
    "• Train seti üzerinde basit analizler yapın (ortalama, sıklık, vs.). \n",
    "\n",
    "• Test seti üzerinde aynı analizleri tekrarlayın. \n",
    "\n",
    "• Sonuçları karşılaştırın ve kısa yorum ekleyin."
   ]
  },
  {
   "cell_type": "markdown",
   "id": "2a713150",
   "metadata": {},
   "source": []
  },
  {
   "cell_type": "code",
   "execution_count": 36,
   "id": "4ca805d5",
   "metadata": {},
   "outputs": [
    {
     "name": "stdout",
     "output_type": "stream",
     "text": [
      "En Çok Satan Kitap: Makine Öğrenmesi\n",
      "\n",
      "Yazar Satışları: {'Ali': 3400, 'Ayşe': 1550, 'Can': 1800, 'Deniz': 400}\n",
      "\n",
      "Tüm Kitap Türleri: {'Sosyal', 'Akademik', 'Sanat', 'Bilim'}\n",
      "\n",
      "1000'den Fazla Satan Kitapların Satış Sayıları: {'Veri Bilimi 101': 1200, 'Makine Öğrenmesi': 1800, 'Matematiksel Modelleme': 1500}\n",
      "\n",
      "2020'den Sonra Çıkan Kitaplar: ['Veri Bilimi 101', 'Makine Öğrenmesi', 'Matematiksel Modelleme', 'Bilgi Toplumu']\n",
      "\n",
      "Satışları %10 Artırılmış Kitaplar: [{'Veri Bilimi 101': 1320}, {'Python ile Yapay Zeka': 1045}, {'İstatistik Temelleri': 770}, {'Makine Öğrenmesi': 1980}, {'Veri Görselleştirme': 440}, {'Matematiksel Modelleme': 1650}, {'Bilgi Toplumu': 660}]\n",
      "\n",
      "Kitaplar Satış Miktarına Göre Azalan Sırada: [{'Makine Öğrenmesi': 1800}, {'Matematiksel Modelleme': 1500}, {'Veri Bilimi 101': 1200}, {'Python ile Yapay Zeka': 950}, {'İstatistik Temelleri': 700}, {'Bilgi Toplumu': 600}, {'Veri Görselleştirme': 400}]\n",
      "\n",
      "Ortalama Satış Adedi: 1021.4285714285714\n",
      "\n",
      "En Çok Satış Yapan Tür: Bilim\n",
      "\n",
      "Satışların Standart Sapması: 506.5053001179939\n",
      "\n",
      "Eğitim Seti: [{'Veri Görselleştirme': 400}, {'Veri Bilimi 101': 1200}, {'Matematiksel Modelleme': 1500}, {'Python ile Yapay Zeka': 950}]\n",
      "\n",
      "Test Seti: [{'İstatistik Temelleri': 700}, {'Makine Öğrenmesi': 1800}, {'Bilgi Toplumu': 600}]\n",
      "\n",
      "Yazarların Ortalama Satışları (Eğitim Seti): {'Deniz': 400, 'Ali': 1350, 'Ayşe': 950}\n",
      "\n",
      "Eğitim Seti Ortalama Satış: 900\n",
      "\n",
      "--- Eğitim Seti Analizi ---\n",
      "Ortalama Satış: 1012.5\n",
      "En Çok Satan Yazar: Ali\n",
      "En Çok Satan Tür: Bilim\n",
      "\n",
      "--- Test Seti Analizi ---\n",
      "Ortalama Satış: 1033.3333333333333\n",
      "En Çok Satan Yazar: Can\n",
      "En Çok Satan Tür: Bilim\n",
      "\n",
      "--- Karşılaştırma ve Yorum ---\n",
      "Test setinin ortalama satışı eğitim setinden yüksek. Test setinde popüler kitaplar olabilir.\n",
      "En çok satan yazar ve türler setler arasında değişiklik gösterebilir.\n"
     ]
    }
   ],
   "source": [
    "\n",
    "kitaplar = [ \n",
    "{\"isim\": \"Veri Bilimi 101\", \"yazar\": \"Ali\", \"tur\": \"Bilim\", \"satis\": 1200, \"yil\": 2021}, \n",
    "{\"isim\": \"Python ile Yapay Zeka\", \"yazar\": \"Ayşe\", \"tur\": \"Bilim\", \"satis\": 950, \"yil\": 2020}, \n",
    "{\"isim\": \"İstatistik Temelleri\", \"yazar\": \"Ali\", \"tur\": \"Akademik\", \"satis\": 700, \"yil\": 2019}, \n",
    "{\"isim\": \"Makine Öğrenmesi\", \"yazar\": \"Can\", \"tur\": \"Bilim\", \"satis\": 1800, \"yil\": 2022}, \n",
    "{\"isim\": \"Veri Görselleştirme\", \"yazar\": \"Deniz\", \"tur\": \"Sanat\", \"satis\": 400, \"yil\": 2018}, \n",
    "{\"isim\": \"Matematiksel Modelleme\", \"yazar\": \"Ali\", \"tur\": \"Akademik\", \"satis\": 1500, \"yil\": 2021}, \n",
    "{\"isim\": \"Bilgi Toplumu\", \"yazar\": \"Ayşe\", \"tur\": \"Sosyal\", \"satis\": 600, \"yil\": 2022} \n",
    "]\n",
    "\n",
    "def en_cok_satan(kitaplar):\n",
    "    return max(kitaplar, key=lambda x: x[\"satis\"])\n",
    "en_cok_satan_kitap = en_cok_satan(kitaplar)\n",
    "print(\"En Çok Satan Kitap:\", en_cok_satan_kitap[\"isim\"])\n",
    "\n",
    "def yazar_satislari(kitaplar):\n",
    "    satis_dict = {}\n",
    "    for kitap in kitaplar:\n",
    "        yazar = kitap[\"yazar\"]\n",
    "        satis = kitap[\"satis\"]\n",
    "        satis_dict[yazar] = satis_dict.get(yazar, 0) + satis\n",
    "    return satis_dict\n",
    "yazar_satis = yazar_satislari(kitaplar)\n",
    "print(\"\\nYazar Satışları:\", yazar_satis)\n",
    "tum_turler = set(kitap[\"tur\"] for kitap in kitaplar)\n",
    "\n",
    "print(\"\\nTüm Kitap Türleri:\", tum_turler)\n",
    "\n",
    "satis_1000_ustu = [kitap for kitap in kitaplar if kitap[\"satis\"] > 1000]\n",
    "print(\"\\n1000'den Fazla Satan Kitapların Satış Sayıları:\", {kitap[\"isim\"]: kitap[\"satis\"] for kitap in satis_1000_ustu})\n",
    "\n",
    "kitaplar_2020_sonrasi = list(filter(lambda x: x[\"yil\"] > 2020, kitaplar))\n",
    "print(\"\\n2020'den Sonra Çıkan Kitaplar:\", [kitap[\"isim\"] for kitap in kitaplar_2020_sonrasi])\n",
    "\n",
    "satis_artirilmis = list(map(lambda x: {**x, \"satis\": int(x[\"satis\"] * 1.1)}, kitaplar))\n",
    "print(\"\\nSatışları %10 Artırılmış Kitaplar:\", [{kitap[\"isim\"]: kitap[\"satis\"]} for kitap in satis_artirilmis])    \n",
    "sirali_kitaplar = sorted(kitaplar, key=lambda x: x[\"satis\"], reverse=True)\n",
    "print(\"\\nKitaplar Satış Miktarına Göre Azalan Sırada:\", [{kitap[\"isim\"]: kitap[\"satis\"]} for kitap in sirali_kitaplar])   \n",
    "\n",
    "import statistics\n",
    "ortalama_satis = statistics.mean(kitap[\"satis\"] for kitap in kitaplar)\n",
    "print(\"\\nOrtalama Satış Adedi:\", ortalama_satis)\n",
    "tur_satislari = {}\n",
    "for kitap in kitaplar:\n",
    "    tur = kitap[\"tur\"]\n",
    "    satis = kitap[\"satis\"]\n",
    "    tur_satislari[tur] = tur_satislari.get(tur, 0) + satis\n",
    "en_cok_satan_tur = max(tur_satislari, key=tur_satislari.get)\n",
    "print(\"\\nEn Çok Satış Yapan Tür:\", en_cok_satan_tur)\n",
    "satis_sayilari = [kitap[\"satis\"] for kitap in kitaplar]\n",
    "satis_standart_sapma = statistics.stdev(satis_sayilari)\n",
    "print(\"\\nSatışların Standart Sapması:\", satis_standart_sapma)\n",
    "import random\n",
    "train_size = int(0.7 * len(kitaplar))\n",
    "train_set = random.sample(kitaplar, train_size)\n",
    "test_set = [kitap for kitap in kitaplar if kitap not in train_set]\n",
    "print(\"\\nEğitim Seti:\", [{kitap[\"isim\"]: kitap[\"satis\"]} for kitap in train_set])\n",
    "print(\"\\nTest Seti:\", [{kitap[\"isim\"]: kitap[\"satis\"]} for kitap in test_set])\n",
    "yazar_ortalama_satis = {}\n",
    "for kitap in train_set:\n",
    "    yazar = kitap[\"yazar\"]\n",
    "    satis = kitap[\"satis\"]\n",
    "    if yazar not in yazar_ortalama_satis:\n",
    "        yazar_ortalama_satis[yazar] = []\n",
    "    yazar_ortalama_satis[yazar].append(satis)\n",
    "for yazar in yazar_ortalama_satis:\n",
    "    yazar_ortalama_satis[yazar] = statistics.mean(yazar_ortalama_satis[yazar])\n",
    "print(\"\\nYazarların Ortalama Satışları (Eğitim Seti):\", yazar_ortalama_satis)\n",
    "ortalama_satis_egitim = statistics.mean(yazar_ortalama_satis.values())\n",
    "print(\"\\nEğitim Seti Ortalama Satış:\", ortalama_satis_egitim)\n",
    "\n",
    "def set_analiz(kitap_listesi):\n",
    "    ort_satis = statistics.mean([k[\"satis\"] for k in kitap_listesi])\n",
    "    yazarlar = {}\n",
    "    turler = {}\n",
    "    for k in kitap_listesi:\n",
    "        yazarlar[k[\"yazar\"]] = yazarlar.get(k[\"yazar\"], 0) + k[\"satis\"]\n",
    "        turler[k[\"tur\"]] = turler.get(k[\"tur\"], 0) + k[\"satis\"]\n",
    "    en_cok_yazar = max(yazarlar, key=yazarlar.get)\n",
    "    en_cok_tur = max(turler, key=turler.get)\n",
    "    return ort_satis, en_cok_yazar, en_cok_tur\n",
    "\n",
    "train_ort, train_yazar, train_tur = set_analiz(train_set)\n",
    "test_ort, test_yazar, test_tur = set_analiz(test_set)\n",
    "\n",
    "print(\"\\n--- Eğitim Seti Analizi ---\")\n",
    "print(\"Ortalama Satış:\", train_ort)\n",
    "print(\"En Çok Satan Yazar:\", train_yazar)\n",
    "print(\"En Çok Satan Tür:\", train_tur)\n",
    "\n",
    "print(\"\\n--- Test Seti Analizi ---\")\n",
    "print(\"Ortalama Satış:\", test_ort)\n",
    "print(\"En Çok Satan Yazar:\", test_yazar)\n",
    "print(\"En Çok Satan Tür:\", test_tur)\n",
    "\n",
    "print(\"\\n--- Karşılaştırma ve Yorum ---\")\n",
    "if train_ort > test_ort:\n",
    "    print(\"Eğitim setinin ortalama satışı test setinden yüksek. Eğitim setinde daha çok satan kitaplar olabilir.\")\n",
    "else:\n",
    "    print(\"Test setinin ortalama satışı eğitim setinden yüksek. Test setinde popüler kitaplar olabilir.\")\n",
    "print(\"En çok satan yazar ve türler setler arasında değişiklik gösterebilir.\")\n",
    "\n"
   ]
  },
  {
   "cell_type": "code",
   "execution_count": null,
   "id": "cccdc32f",
   "metadata": {},
   "outputs": [],
   "source": []
  }
 ],
 "metadata": {
  "kernelspec": {
   "display_name": ".venv",
   "language": "python",
   "name": "python3"
  },
  "language_info": {
   "codemirror_mode": {
    "name": "ipython",
    "version": 3
   },
   "file_extension": ".py",
   "mimetype": "text/x-python",
   "name": "python",
   "nbconvert_exporter": "python",
   "pygments_lexer": "ipython3",
   "version": "3.13.0"
  }
 },
 "nbformat": 4,
 "nbformat_minor": 5
}
