{
 "cells": [
  {
   "cell_type": "markdown",
   "id": "064d9d0c",
   "metadata": {},
   "source": [
    "Soru 1 – Sayı Analizi \n",
    "\n",
    "Kullanıcıdan bir sayı isteyin. \n",
    "\n",
    "• Sayı pozitif, negatif ya da sıfır mı kontrol edin. \n",
    "\n",
    "• Aynı zamanda tek/çift olup olmadığını da belirtin. \n",
    "\n",
    "• Çıktı örneği: \"Pozitif Çift\" veya \"Negatif Tek\" gibi."
   ]
  },
  {
   "cell_type": "code",
   "execution_count": 6,
   "id": "26987a6f",
   "metadata": {},
   "outputs": [
    {
     "name": "stdout",
     "output_type": "stream",
     "text": [
      "Pozitif Tek\n"
     ]
    }
   ],
   "source": [
    "\n",
    "sayi = float(input(\"Bir sayı girin: \"))\n",
    "if sayi > 0:\n",
    "    pozitif_negatif = \"Pozitif\"\n",
    "elif sayi < 0:\n",
    "    pozitif_negatif = \"Negatif\"\n",
    "else:\n",
    "    pozitif_negatif = \"Sıfır\"\n",
    "\n",
    "if sayi % 2 == 0:\n",
    "    tek_cift = \"Çift\"\n",
    "else:\n",
    "    tek_cift = \"Tek\"\n",
    "\n",
    "if sayi == 0:\n",
    "    print(\"Sıfır ne pozitif ne de negatiftir ve tek/çift kavramı uygulanmaz.\")\n",
    "else:\n",
    "    print(f\"{pozitif_negatif} {tek_cift}\")"
   ]
  },
  {
   "cell_type": "markdown",
   "id": "b93db75a",
   "metadata": {},
   "source": [
    "Soru 2 – Harf Frekansı (String) \n",
    "\n",
    "Kullanıcıdan bir kelime alın. \n",
    "\n",
    "• Hangi harften kaç tane geçtiğini bulun. \n",
    "\n",
    "• Sonucu dictionary olarak gösterin. \n",
    "\n",
    "Örnek: \"data\" → {'d': 1, 'a': 2, 't': 1} "
   ]
  },
  {
   "cell_type": "markdown",
   "id": "51defb4f",
   "metadata": {},
   "source": []
  },
  {
   "cell_type": "code",
   "execution_count": 7,
   "id": "356af367",
   "metadata": {},
   "outputs": [
    {
     "name": "stdout",
     "output_type": "stream",
     "text": [
      "{'d': 1, 'a': 2, 't': 1}\n"
     ]
    }
   ],
   "source": [
    "\n",
    "kelime = input(\"Bir kelime girin: \")\n",
    "kactane={}\n",
    "for harf in kelime:\n",
    "    if harf in kactane:\n",
    "        kactane[harf] += 1\n",
    "    else:\n",
    "        kactane[harf] = 1\n",
    "\n",
    "print(kactane)"
   ]
  },
  {
   "cell_type": "markdown",
   "id": "1d6b8595",
   "metadata": {},
   "source": [
    "Soru 3 – Şifre Kontrolü (String Metotları) \n",
    "\n",
    "Kullanıcıdan şifre girmesini isteyin. Şifre: \n",
    "\n",
    "• En az 8 karakter olmalı \n",
    "\n",
    "• En az 1 büyük harf içermeli \n",
    "\n",
    "• En az 1 rakam içermeli \n",
    "\n",
    "Koşulları sağlayıp sağlamadığına göre kullanıcıyı bilgilendirin."
   ]
  },
  {
   "cell_type": "code",
   "execution_count": 8,
   "id": "3c9f1fa0",
   "metadata": {},
   "outputs": [
    {
     "name": "stdout",
     "output_type": "stream",
     "text": [
      "Şifre en az 8 karakter uzunluğunda olmalıdır.\n",
      "Şifre en az bir rakam içermelidir.\n"
     ]
    }
   ],
   "source": [
    "sifre= input(\"Bir şifre girin: \")\n",
    "\n",
    "if (len(sifre) >= 8 and\n",
    "    any(char.isupper() for char in sifre) and\n",
    "    any(char.isdigit() for char in sifre)):\n",
    "    print(\"Şifre geçerli.\")\n",
    "# else:\n",
    "#     print(\"Şifre geçersiz. Lütfen en az 8 karakter uzunluğunda, büyük harf, rakam ve özel karakter içeren bir şifre girin.\")\n",
    "\n",
    "if len(sifre) < 8:\n",
    "    print(\"Şifre en az 8 karakter uzunluğunda olmalıdır.\")\n",
    "if not any(char.isupper() for char in sifre):\n",
    "    print(\"Şifre en az bir büyük harf içermelidir.\")\n",
    "if not any(char.isdigit() for char in sifre):\n",
    "    print(\"Şifre en az bir rakam içermelidir.\")\n",
    "\n",
    "\n",
    "  "
   ]
  },
  {
   "cell_type": "markdown",
   "id": "138d573f",
   "metadata": {},
   "source": [
    "Soru 4 – Liste İşlemleri \n",
    "\n",
    "[12, 4, 9, 25, 30, 7, 18] listesini kullanın. \n",
    "\n",
    "• Listenin ortalamasını bulun. \n",
    "\n",
    "• Ortalamadan büyük sayıları ayrı bir listeye atın. \n",
    "\n",
    "• Sonucu ekrana yazdırın."
   ]
  },
  {
   "cell_type": "code",
   "execution_count": 9,
   "id": "3c334251",
   "metadata": {},
   "outputs": [
    {
     "name": "stdout",
     "output_type": "stream",
     "text": [
      "Ortalama: 15.0\n",
      "Ortalama'dan büyük olan sayılar: [25, 30, 18]\n"
     ]
    }
   ],
   "source": [
    "liste= [12,4,9,25,30,7,18]\n",
    "ortalamadanbuyukolanlar=[]\n",
    "\n",
    "for sayi in liste:\n",
    "    ortalama=0\n",
    "    \"sum olmaadn ortalama\"\n",
    "    for i in liste:\n",
    "        ortalama += i\n",
    "    ortalama /= len(liste)\n",
    "    if sayi > ortalama:\n",
    "        ortalamadanbuyukolanlar.append(sayi)\n",
    "print(\"Ortalama:\", ortalama)\n",
    "print(\"Ortalama'dan büyük olan sayılar:\", ortalamadanbuyukolanlar)\n"
   ]
  },
  {
   "cell_type": "markdown",
   "id": "c6aa5b2e",
   "metadata": {},
   "source": []
  },
  {
   "cell_type": "markdown",
   "id": "2afe5544",
   "metadata": {},
   "source": [
    "Soru 5 – Nested Loop (Desen) \n",
    "Aşağıdaki çıktıyı üreten programı yazın (üçgen desen):"
   ]
  },
  {
   "cell_type": "code",
   "execution_count": 10,
   "id": "bae326ac",
   "metadata": {},
   "outputs": [
    {
     "name": "stdout",
     "output_type": "stream",
     "text": [
      "*\n",
      "**\n",
      "***\n",
      "****\n",
      "*****\n"
     ]
    }
   ],
   "source": [
    "for i in range(1, 6):\n",
    "    for j in range(i):\n",
    "        print(\"*\", end=\"\")\n",
    "    print()  \n"
   ]
  },
  {
   "cell_type": "markdown",
   "id": "11c8d42e",
   "metadata": {},
   "source": [
    "Soru 6 – While Döngüsü \n",
    "\n",
    "Kullanıcıdan sürekli sayı isteyin. \n",
    "\n",
    "• Kullanıcı 0 girdiğinde program dursun. \n",
    "\n",
    "• Girilen tüm sayıların toplamını ve ortalamasını yazdırın."
   ]
  },
  {
   "cell_type": "code",
   "execution_count": 11,
   "id": "1b3625a1",
   "metadata": {},
   "outputs": [
    {
     "name": "stdout",
     "output_type": "stream",
     "text": [
      "Girilen sayılar: [3, 4, 2, 5, 7]\n",
      "Program sonlandırıldı.\n",
      "Toplam: 21\n",
      "Ortalama: 4.2\n"
     ]
    }
   ],
   "source": [
    "sayi= int(input(\"Bir sayı girin: \"))\n",
    "sayilar=[]\n",
    "while sayi != 0:\n",
    "    sayilar.append(sayi)\n",
    "    sayi= int(input(\"Bir sayı girin: \"))\n",
    "print(\"Girilen sayılar:\", sayilar)\n",
    "if sayi==0:\n",
    "    print(\"Program sonlandırıldı.\")\n",
    "toplam=0\n",
    "for sayi in sayilar:\n",
    "    toplam += sayi\n",
    "ortalama= toplam / len(sayilar)\n",
    "print(\"Toplam:\", toplam)\n",
    "print(\"Ortalama:\", ortalama)"
   ]
  },
  {
   "cell_type": "markdown",
   "id": "292e21c0",
   "metadata": {},
   "source": [
    "Soru 7 – Palindrom Kontrolü \n",
    "\n",
    "Kullanıcıdan bir kelime isteyin. \n",
    "\n",
    "• Kelimenin palindrom olup olmadığını kontrol edin. \n",
    "\n",
    "• Örnek: \"kayak\" → Palindrom     , \"python\" → Değil     "
   ]
  },
  {
   "cell_type": "code",
   "execution_count": 12,
   "id": "5050fe2a",
   "metadata": {},
   "outputs": [
    {
     "name": "stdout",
     "output_type": "stream",
     "text": [
      "kayak bir palindromdur.\n"
     ]
    }
   ],
   "source": [
    "kelime= input(\"Bir kelime girin: \")\n",
    "if kelime == kelime[::-1]:\n",
    "    print(f\"{kelime} bir palindromdur.\")\n",
    "else:\n",
    "    print(f\"{kelime} bir palindrom değildir.\")\n",
    "    "
   ]
  },
  {
   "cell_type": "markdown",
   "id": "dbd65e91",
   "metadata": {},
   "source": [
    "Soru 8 – List Comprehension \n",
    "\n",
    "1’den 100’e kadar olan sayılardan: \n",
    "\n",
    "• Hem 3’e hem 5’e bölünebilenlerin karelerini içeren bir liste oluşturun. \n",
    "\n",
    "• Sonucu ekrana yazdırın."
   ]
  },
  {
   "cell_type": "code",
   "execution_count": 13,
   "id": "6e4ca05f",
   "metadata": {},
   "outputs": [
    {
     "name": "stdout",
     "output_type": "stream",
     "text": [
      "[0, 15, 30, 45, 60, 75, 90]\n"
     ]
    }
   ],
   "source": [
    "ucebesebolunenler=[]\n",
    "for i in range(0,100):\n",
    "    if i%3==0 and i%5==0:\n",
    "        ucebesebolunenler.append(i)\n",
    "print(ucebesebolunenler)"
   ]
  },
  {
   "cell_type": "markdown",
   "id": "f5450ec4",
   "metadata": {},
   "source": [
    "Soru 9 – String İşlemleri \n",
    "\n",
    "Bir cümle alın. \n",
    "\n",
    "• Cümledeki kelimeleri split() ile ayırın. \n",
    "\n",
    "• Her kelimenin ilk harfini büyük yaparak yeni bir string oluşturun. \n",
    "\n",
    "• Örnek: \"python veri bilimi\" → \"Python Veri Bilimi\""
   ]
  },
  {
   "cell_type": "code",
   "execution_count": 14,
   "id": "3934b47a",
   "metadata": {},
   "outputs": [
    {
     "name": "stdout",
     "output_type": "stream",
     "text": [
      "Python Veri Bilimi\n"
     ]
    }
   ],
   "source": [
    "cumle= input(\"Bir cümle girin: \")\n",
    "kelimeler= cumle.split()\n",
    "for i in range(len(kelimeler)):\n",
    "    kelimeler[i] = kelimeler[i].capitalize()\n",
    "yeni_cumle = \" \".join(kelimeler)\n",
    "print(yeni_cumle)"
   ]
  },
  {
   "cell_type": "markdown",
   "id": "1d50f691",
   "metadata": {},
   "source": [
    "MİNİ PROJE\n",
    "\n",
    "Proje Tanımı: \n",
    "\n",
    "Kullanıcıdan birkaç film yorumu alın (örneğin 5–6 yorum). - Yorumları bir listeye atın. - Her yorumun uzunluğunu (karakter sayısı) bulun. - Kaç yorumda \"iyi\" kelimesi geçtiğini sayın. - En uzun yorumu ve en kısa yorumu ekrana yazdırın. - Tüm yorumların ortalama uzunluğunu hesaplayın."
   ]
  },
  {
   "cell_type": "code",
   "execution_count": 15,
   "id": "0eee959b",
   "metadata": {},
   "outputs": [
    {
     "name": "stdout",
     "output_type": "stream",
     "text": [
      "Yorum uzunlukları: [16, 7, 19, 17, 27]\n",
      "\"iyi\" kelimesi geçen yorum sayısı: 2\n",
      "En uzun yorum: iyi ama daha iyi olabilirdi\n",
      "En kısa yorum: kötüydü\n",
      "Ortalama yorum uzunluğu: 17.2\n",
      "Toplam yorum sayısı: 5\n"
     ]
    }
   ],
   "source": [
    "\n",
    "yorumlar = []\n",
    "for i in range(5):\n",
    "    yorum = input(\"Bir film yorumu girin: \")\n",
    "    yorumlar.append(yorum)\n",
    "\n",
    "# Yorum uzunlukları\n",
    "yorum_uzunlukları= []\n",
    "for yorum in yorumlar:\n",
    "    yorum_uzunlukları.append(len(yorum))\n",
    "print(\"Yorum uzunlukları:\", yorum_uzunlukları)\n",
    "# \"iyi\" kelimesi sayısı\n",
    "iyi_sayisi = 0\n",
    "for yorum in yorumlar:\n",
    "    if \"iyi\" in yorum.lower():\n",
    "        iyi_sayisi += 1\n",
    "print('\"iyi\" kelimesi geçen yorum sayısı:', iyi_sayisi)\n",
    "# En uzun ve en kısa yorum\n",
    "en_uzun_yorum = max(yorumlar, key=len)\n",
    "en_kisa_yorum = min(yorumlar, key=len)\n",
    "print(\"En uzun yorum:\", en_uzun_yorum)\n",
    "print(\"En kısa yorum:\", en_kisa_yorum)\n",
    "# Ortalama uzunluk\n",
    "toplam_uzunluk=0\n",
    "for uzunluk in yorum_uzunlukları:\n",
    "    toplam_uzunluk += uzunluk\n",
    "ortalama_uzunluk = toplam_uzunluk / len(yorumlar)\n",
    "print(\"Ortalama yorum uzunluğu:\", ortalama_uzunluk)\n",
    "\n",
    "print(\"Toplam yorum sayısı:\", len(yorumlar))"
   ]
  }
 ],
 "metadata": {
  "kernelspec": {
   "display_name": ".venv",
   "language": "python",
   "name": "python3"
  },
  "language_info": {
   "codemirror_mode": {
    "name": "ipython",
    "version": 3
   },
   "file_extension": ".py",
   "mimetype": "text/x-python",
   "name": "python",
   "nbconvert_exporter": "python",
   "pygments_lexer": "ipython3",
   "version": "3.13.0"
  }
 },
 "nbformat": 4,
 "nbformat_minor": 5
}
