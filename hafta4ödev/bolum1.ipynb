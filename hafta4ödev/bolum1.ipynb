{
 "cells": [
  {
   "cell_type": "markdown",
   "id": "f87cec01",
   "metadata": {},
   "source": [
    "📘 Veri Bilimi Ödevi – Numpy ve Pandas Uygulamaları\n",
    "\n",
    "1. Numpy Bölümü\n",
    "\n",
    "    Aşağıdaki adımları uygulayın:\n",
    "    1.\t1. Numpy ile Matris İşlemleri\n",
    "    - 5x5 boyutunda rastgele (0-100 arasında) tam sayılardan oluşan bir matris oluşturun.\n",
    "    - Bu matrisin:\n",
    "    • Ortalama, standart sapma ve varyansını hesaplayın.\n",
    "    • En büyük ve en küçük değerlerini bulun.\n",
    "    • Köşegenindeki elemanların toplamını bulun.\n",
    "\n",
    "    2.\t2. Numpy ile Veri Simülasyonu\n",
    "    - 1000 adet öğrencinin sınav puanlarını (0-100 arası, normal dağılımdan gelen) simüle edin.\n",
    "    - Ortalama, medyan ve standart sapmayı hesaplayın.\n",
    "    - 50’den düşük alan kaç öğrenci olduğunu bulun.\n"
   ]
  },
  {
   "cell_type": "code",
   "execution_count": 14,
   "id": "46611df3",
   "metadata": {},
   "outputs": [
    {
     "name": "stdout",
     "output_type": "stream",
     "text": [
      "Oluşturulan Matris:\n",
      " [[53 52 91 12 29]\n",
      " [98 80 52 26 77]\n",
      " [89 35 75 33 41]\n",
      " [24 14 98  2 41]\n",
      " [36 90 44 47 54]]\n",
      "Ortalama: 51.72\n",
      "Standart Sapma: 27.768356091061637\n",
      "Varyans: 771.0816\n",
      "En Büyük Değer: 98\n",
      "En Küçük Değer: 2\n",
      "Köşegen Elemanlarının Toplamı: 264\n",
      "\n",
      "\n",
      "Sınav Puanları Ortalaması: 69.80496539914729\n",
      "Sınav Puanları Medyanı: 69.98163131187746\n",
      "Sınav Puanları Standart Sapması: 14.862475793065322\n",
      "50'den Düşük Puan Alan Öğrenci Sayısı: 95\n",
      "\n",
      "\n"
     ]
    }
   ],
   "source": [
    "\n",
    "import numpy as np\n",
    "import pandas as pd\n",
    "import matplotlib.pyplot as plt\n",
    "import seaborn as sns\n",
    "import random\n",
    "from scipy import stats\n",
    "import warnings\n",
    "warnings.filterwarnings(\"ignore\")\n",
    "\n",
    "matris = np.random.randint(0, 101, size=(5, 5))\n",
    "\n",
    "matris_ortalama = matris.mean()\n",
    "\n",
    "print(\"Oluşturulan Matris:\\n\", matris)\n",
    "print(\"Ortalama:\", np.mean(matris))  # matris_ortalama = matris.mean() \n",
    "print(\"Standart Sapma:\", np.std(matris)) # matris_std = matris.std()\n",
    "print(\"Varyans:\", np.var(matris)) # matris_var = matris.var()\n",
    "print(\"En Büyük Değer:\", np.max(matris)) # matris_max = matris.max()\n",
    "print(\"En Küçük Değer:\", np.min(matris)) # matris_min = matris.min()\n",
    "print(\"Köşegen Elemanlarının Toplamı:\", np.trace(matris))\n",
    "print(\"\\n\") \n",
    "\n",
    "\n",
    "sinav_puanlari = np.random.normal(loc=70, scale=15, size=1000) #normal dağılım loc=70 scale=15)\n",
    "sinav_puanlari = np.clip(sinav_puanlari, 0, 100)\n",
    "print(\"Sınav Puanları Ortalaması:\", np.mean(sinav_puanlari)) # not_ortalama = sinav_puanlari.mean()\n",
    "print(\"Sınav Puanları Medyanı:\", np.median(sinav_puanlari)) # not_medyan = np.median(sinav_puanlari)\n",
    "print(\"Sınav Puanları Standart Sapması:\", np.std(sinav_puanlari)) # not_std = sinav_puanlari.std()\n",
    "print(\"50'den Düşük Puan Alan Öğrenci Sayısı:\", np.sum(sinav_puanlari < 50)) # elli_altindan_kucuk = (sinav_puanlari < 50).sum()\n",
    "print(\"\\n\")\n"
   ]
  },
  {
   "cell_type": "markdown",
   "id": "7bec7f6a",
   "metadata": {},
   "source": [
    "\n",
    "2. Pandas Bölümü\n",
    "    \n",
    "    Bir CSV dosyası oluşturun ya da aşağıdaki gibi örnek bir DataFrame hazırlayın:\n",
    "    \n",
    "    Öğrenci\tYaş\tBölüm\tMatematik\tFizik\tKimya\n",
    "    \n",
    "    Ali\t20\tBilgisayar\t70\t65\t80\n",
    "    \n",
    "    Ayşe\t21\tFizik\t60\t75\t85\n",
    "    \n",
    "    Mehmet\t19\tKimya\t80\t70\t65\n",
    "    \n",
    "    Zeynep\t22\tBilgisayar\t90\t85\t95\n",
    "    \n",
    "    Ahmet\t20\tFizik\t55\t60\t70\n",
    "    \n",
    "    •\tGörevler:\n",
    "    \n",
    "    \t1. Veri setini Pandas DataFrame olarak oluşturun.\n",
    "    \n",
    "    \t2. Her ders için ortalama puanı bulun.\n",
    "    \n",
    "    \t3. En yüksek matematik notunu alan öğrenciyi bulun.\n",
    "    \n",
    "    \t4. Her öğrencinin not ortalamasını hesaplayan yeni bir sütun ekleyin.\n",
    "    \n",
    "    \t5. Bölümlere göre gruplayarak her bölümün ortalama başarılarını hesaplayın.\n",
    "    \n",
    "    \t6. Ortalaması 70’in üzerinde olan öğrencileri filtreleyin.\n"
   ]
  },
  {
   "cell_type": "code",
   "execution_count": null,
   "id": "100427e8",
   "metadata": {},
   "outputs": [
    {
     "name": "stdout",
     "output_type": "stream",
     "text": [
      "\n",
      "==== Pandas | Öğrenci Notları ====\n",
      "Veri Seti:\n",
      "   Öğrenci  Yaş       Bölüm  Matematik  Fizik  Kimya\n",
      "0     Ali   20  Bilgisayar         70     65     80\n",
      "1    Ayşe   21       Fizik         60     75     85\n",
      "2  Mehmet   19       Kimya         80     70     65\n",
      "3  Zeynep   22  Bilgisayar         90     85     95\n",
      "4   Ahmet   20       Fizik         55     60     70\n",
      "\n",
      "\n",
      "Ders Ortalamaları:\n",
      " Matematik    71.0\n",
      "Fizik        71.0\n",
      "Kimya        79.0\n",
      "dtype: float64\n",
      "\n",
      "\n",
      "En Yüksek Matematik Notu Alan Öğrenci: Zeynep ve notu: 90\n",
      "\n",
      "\n",
      "Not Ortalamaları Eklenmiş Veri Seti:\n",
      "   Öğrenci  Yaş       Bölüm  Matematik  Fizik  Kimya   Ortalama\n",
      "0     Ali   20  Bilgisayar         70     65     80  71.666667\n",
      "1    Ayşe   21       Fizik         60     75     85  73.333333\n",
      "2  Mehmet   19       Kimya         80     70     65  71.666667\n",
      "3  Zeynep   22  Bilgisayar         90     85     95  90.000000\n",
      "4   Ahmet   20       Fizik         55     60     70  61.666667\n",
      "\n",
      "\n",
      "Bölümlere Göre Ortalama Başarı:\n",
      "             Matematik  Fizik  Kimya   Ortalama\n",
      "Bölüm                                         \n",
      "Bilgisayar       80.0   75.0   87.5  80.833333\n",
      "Fizik            57.5   67.5   77.5  67.500000\n",
      "Kimya            80.0   70.0   65.0  71.666667\n",
      "\n",
      "\n",
      "Ortalaması 70'in Üzerinde Olan Öğrenciler:\n",
      "   Öğrenci  Yaş       Bölüm  Matematik  Fizik  Kimya   Ortalama\n",
      "0     Ali   20  Bilgisayar         70     65     80  71.666667\n",
      "1    Ayşe   21       Fizik         60     75     85  73.333333\n",
      "2  Mehmet   19       Kimya         80     70     65  71.666667\n",
      "3  Zeynep   22  Bilgisayar         90     85     95  90.000000\n",
      "\n",
      "\n"
     ]
    }
   ],
   "source": [
    "\n",
    "print(\"\\n==== Pandas | Öğrenci Notları ====\")\n",
    "data = {\n",
    "    'Öğrenci': ['Ali', 'Ayşe', 'Mehmet', 'Zeynep', 'Ahmet'],\n",
    "    'Yaş': [20, 21, 19, 22, 20],\n",
    "    'Bölüm': ['Bilgisayar', 'Fizik', 'Kimya', 'Bilgisayar', 'Fizik'],\n",
    "    'Matematik': [70, 60, 80, 90, 55],\n",
    "    'Fizik': [65, 75, 70, 85, 60],\n",
    "    'Kimya': [80, 85, 65, 95, 70]\n",
    "}\n",
    "df = pd.DataFrame(data)\n",
    "print(\"Veri Seti:\\n\", df)\n",
    "print(\"\\n\")\n",
    "\n",
    "#Her ders için ortalama\n",
    "ders_ortalama = df[['Matematik', 'Fizik', 'Kimya']].mean()\n",
    "print(\"Ders Ortalamaları:\\n\", ders_ortalama)\n",
    "print(\"\\n\")\n",
    "\n",
    "#En yüksek matematik notu alan öğrenci\n",
    "mat_max = df['Matematik'].max()\n",
    "en_yuksek_matematik = df.loc[df['Matematik'].idxmax(), 'Öğrenci']\n",
    "print(f\"En Yüksek Matematik Notu Alan Öğrenci: {en_yuksek_matematik} ve notu: {mat_max}\")\n",
    "print(\"\\n\")\n",
    "\n",
    "#Her öğrencinin not ortalaması\n",
    "df['Ortalama'] = df[['Matematik', 'Fizik', 'Kimya']].mean(axis=1)\n",
    "print(\"Not Ortalamaları Eklenmiş Veri Seti:\\n\", df)\n",
    "print(\"\\n\")\n",
    "\n",
    "#Bölümlere göre ortalama başarı\n",
    "bolum_ortalama = df.groupby('Bölüm')[['Matematik', 'Fizik', 'Kimya', 'Ortalama']].mean()\n",
    "print(\"Bölümlere Göre Ortalama Başarı:\\n\", bolum_ortalama)\n",
    "print(\"\\n\")\n",
    "\n",
    "#Ortalaması 70'in üzerinde olan öğrenciler\n",
    "basarili_ogrenciler = df[df['Ortalama'] > 70]\n",
    "print(\"Ortalaması 70'in Üzerinde Olan Öğrenciler:\\n\", basarili_ogrenciler)\n",
    "print(\"\\n\")\n"
   ]
  },
  {
   "cell_type": "markdown",
   "id": "1633f6b9",
   "metadata": {},
   "source": [
    "\n",
    "\n",
    "3. Ek Görev (Opsiyonel)\n",
    "\n",
    "- Matplotlib veya Seaborn kullanarak:\n",
    "\n",
    "  • Her dersin dağılımını histogram ile gösterin.\n",
    "\n",
    "  • Bölümlere göre ortalamaları bar grafikte görselleştirin.\n"
   ]
  },
  {
   "cell_type": "code",
   "execution_count": 13,
   "id": "bee86985",
   "metadata": {},
   "outputs": [
    {
     "data": {
      "image/png": "[encoded data removed]",
      "text/plain": [
       "<Figure size 1200x600 with 3 Axes>"
      ]
     },
     "metadata": {},
     "output_type": "display_data"
    },
    {
     "data": {
      "image/png": "[encoded data removed]",
      "text/plain": [
       "<Figure size 800x600 with 1 Axes>"
      ]
     },
     "metadata": {},
     "output_type": "display_data"
    }
   ],
   "source": [
    "\n",
    "# Histogram\n",
    "plt.figure(figsize=(12, 6))\n",
    "plt.subplot(1, 3, 1)\n",
    "sns.histplot(df['Matematik'], bins=10, color='blue')\n",
    "plt.title('Matematik Not Dağılımı')\n",
    "plt.subplot(1, 3, 2)\n",
    "sns.histplot(df['Fizik'], bins=10, color='green')\n",
    "plt.title('Fizik Not Dağılımı')\n",
    "plt.subplot(1, 3, 3)\n",
    "sns.histplot(df['Kimya'], bins=10, color='red')\n",
    "plt.title('Kimya Not Dağılımı')\n",
    "plt.tight_layout()\n",
    "plt.show()\n",
    "# Bar Grafik\n",
    "bolum_ortalama.plot(kind='bar', figsize=(8, 6))\n",
    "plt.title('Bölümlere Göre Ortalama Başarı')\n",
    "plt.ylabel('Ortalama Not')\n",
    "plt.xticks(rotation=0)\n",
    "plt.show()  \n",
    "\n",
    "\n"
   ]
  },
  {
   "cell_type": "markdown",
   "id": "6e1582a4",
   "metadata": {},
   "source": []
  }
 ],
 "metadata": {
  "kernelspec": {
   "display_name": ".venv",
   "language": "python",
   "name": "python3"
  },
  "language_info": {
   "codemirror_mode": {
    "name": "ipython",
    "version": 3
   },
   "file_extension": ".py",
   "mimetype": "text/x-python",
   "name": "python",
   "nbconvert_exporter": "python",
   "pygments_lexer": "ipython3",
   "version": "3.13.0"
  }
 },
 "nbformat": 4,
 "nbformat_minor": 5
}
